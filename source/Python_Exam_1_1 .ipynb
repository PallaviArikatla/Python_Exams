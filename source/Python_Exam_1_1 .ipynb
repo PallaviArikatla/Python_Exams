{
 "cells": [
  {
   "cell_type": "code",
   "execution_count": 1,
   "metadata": {},
   "outputs": [
    {
     "name": "stdout",
     "output_type": "stream",
     "text": [
      "accuracy score: 99.32059373436444\n",
      "              precision    recall  f1-score   support\n",
      "\n",
      "           0       1.00      0.99      1.00    113724\n",
      "           1       0.15      0.63      0.25       199\n",
      "\n",
      "    accuracy                           0.99    113923\n",
      "   macro avg       0.58      0.81      0.62    113923\n",
      "weighted avg       1.00      0.99      1.00    113923\n",
      "\n",
      "KNN socre: 99.8323428982734\n"
     ]
    }
   ],
   "source": [
    "from sklearn.model_selection import train_test_split\n",
    "from sklearn.naive_bayes import GaussianNB\n",
    "from sklearn.metrics import accuracy_score\n",
    "from sklearn.metrics import classification_report\n",
    "from sklearn.neighbors import KNeighborsClassifier\n",
    "import pandas as pd\n",
    "\n",
    "\n",
    "credit_card_df = pd.read_csv('./creditcard.csv')\n",
    "X_train = credit_card_df.drop(\"Class\",axis=1)\n",
    "Y_train = credit_card_df[\"Class\"]\n",
    "X_train, X_test, Y_train, Y_test= train_test_split(X_train, Y_train, test_size=0.4, random_state=0)\n",
    "model = GaussianNB()\n",
    "model.fit(X_train,Y_train)\n",
    "y_pred = model.predict(X_test)\n",
    "score = accuracy_score(Y_test,y_pred)*100\n",
    "print(\"accuracy score: \" + str(score))\n",
    "\n",
    "print(classification_report(Y_test, y_pred))\n",
    "\n",
    "#KNN\n",
    "knn = KNeighborsClassifier()\n",
    "knn.fit(X_train,Y_train)\n",
    "score = knn.score(X_test,Y_test)*100\n",
    "print(\"KNN socre: \" + str(score))\n"
   ]
  },
  {
   "cell_type": "code",
   "execution_count": 17,
   "metadata": {},
   "outputs": [
    {
     "data": {
      "text/plain": [
       "<matplotlib.axes._subplots.AxesSubplot at 0x26c83bef9c8>"
      ]
     },
     "execution_count": 17,
     "metadata": {},
     "output_type": "execute_result"
    },
    {
     "data": {
      "image/png": "[encoded data removed]",
      "text/plain": [
       "<Figure size 432x288 with 1 Axes>"
      ]
     },
     "metadata": {
      "needs_background": "light"
     },
     "output_type": "display_data"
    }
   ],
   "source": [
    "# ##visualization\n",
    "# import matplotlib.pyplot as plt\n",
    "credit_card_df[\"Class\"].value_counts()\n",
    "# print(credit_card_df[\"Class\"].value_counts())\n",
    "# plt.plot(credit_card_df[\"Class\"].value_counts())\n",
    "# credit_card_df.Class\n",
    "credit_card_df[\"Class\"].value_counts().plot(kind='area')\n",
    "# credit_card_df[\"Class\"].value_counts().nlargest(40).plot(kind='bar',figsize=(10,5))"
   ]
  }
 ],
 "metadata": {
  "kernelspec": {
   "display_name": "Python 3",
   "language": "python",
   "name": "python3"
  },
  "language_info": {
   "codemirror_mode": {
    "name": "ipython",
    "version": 3
   },
   "file_extension": ".py",
   "mimetype": "text/x-python",
   "name": "python",
   "nbconvert_exporter": "python",
   "pygments_lexer": "ipython3",
   "version": "3.7.6"
  }
 },
 "nbformat": 4,
 "nbformat_minor": 4
}
